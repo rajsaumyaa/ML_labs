{
  "cells": [
    {
      "cell_type": "markdown",
      "metadata": {
        "id": "view-in-github",
        "colab_type": "text"
      },
      "source": [
        "<a href=\"https://colab.research.google.com/github/rajsaumyaa/ML_labs/blob/main/exp_1.ipynb\" target=\"_parent\"><img src=\"https://colab.research.google.com/assets/colab-badge.svg\" alt=\"Open In Colab\"/></a>"
      ]
    },
    {
      "cell_type": "code",
      "source": [
        "print(\"hello world\")\n",
        "print(\"welcome to machine learning lab using google colab\")\n"
      ],
      "metadata": {
        "id": "psQYMwc2V_4d",
        "outputId": "7bf5ced1-64d2-4898-c10a-c646d50c00a7",
        "colab": {
          "base_uri": "https://localhost:8080/"
        }
      },
      "execution_count": 6,
      "outputs": [
        {
          "output_type": "stream",
          "name": "stdout",
          "text": [
            "hello world\n",
            "welcome to machine learning lab using google colab\n"
          ]
        }
      ]
    },
    {
      "cell_type": "code",
      "source": [
        "import pandas as pd\n",
        "data = {\n",
        "    \"Name\":[\"Anu\",\"Sia\",\"Sita\",\"Gigi\",\"Anaya\",\"Das\",\"Manu\",\"Vyom\",\"Om\",\"Ram\"] ,\n",
        "    \"Marks\":[2,3,4,5,6,7,8,9,12,10] ,\n",
        "    \"Age\":[1,2,4,6,8,5,9,10,5,7]\n",
        "}\n",
        "df=pd.DataFrame(data)\n",
        "print(\"Dataset:\\n\",df)\n",
        "print(\"Names:\",df[\"Name\"])\n",
        "print(\"Average Marks:\",df[\"Marks\"].mean())"
      ],
      "metadata": {
        "id": "rhAzzFMIWF4t",
        "outputId": "be7f3640-5432-42f3-fec5-5bbaf7c6b55a",
        "colab": {
          "base_uri": "https://localhost:8080/"
        }
      },
      "execution_count": 7,
      "outputs": [
        {
          "output_type": "stream",
          "name": "stdout",
          "text": [
            "Dataset:\n",
            "     Name  Marks  Age\n",
            "0    Anu      2    1\n",
            "1    Sia      3    2\n",
            "2   Sita      4    4\n",
            "3   Gigi      5    6\n",
            "4  Anaya      6    8\n",
            "5    Das      7    5\n",
            "6   Manu      8    9\n",
            "7   Vyom      9   10\n",
            "8     Om     12    5\n",
            "9    Ram     10    7\n",
            "Names: 0      Anu\n",
            "1      Sia\n",
            "2     Sita\n",
            "3     Gigi\n",
            "4    Anaya\n",
            "5      Das\n",
            "6     Manu\n",
            "7     Vyom\n",
            "8       Om\n",
            "9      Ram\n",
            "Name: Name, dtype: object\n",
            "Average Marks: 6.6\n"
          ]
        }
      ]
    },
    {
      "cell_type": "code",
      "source": [
        "import numpy as np\n",
        "nums = np.array([5, 8, 3, 6])\n",
        "print(\"Array:\", nums)\n",
        "print(\"Mean:\",np.mean(nums))\n",
        "print(\"Standard Deviation: \" , np.std(nums))\n",
        "print(\"Sum: \", np.sum(nums))"
      ],
      "metadata": {
        "id": "oCaTvqJLWJvP",
        "outputId": "31a5d034-6b70-4e3d-e500-6e7b59df4ff7",
        "colab": {
          "base_uri": "https://localhost:8080/"
        }
      },
      "execution_count": 8,
      "outputs": [
        {
          "output_type": "stream",
          "name": "stdout",
          "text": [
            "Array: [5 8 3 6]\n",
            "Mean: 5.5\n",
            "Standard Deviation:  1.8027756377319946\n",
            "Sum:  22\n"
          ]
        }
      ]
    },
    {
      "cell_type": "code",
      "source": [
        "import matplotlib.pyplot as plt\n",
        "x=[1,2,3,4,5]\n",
        "y=[2,4,6,8,10]\n",
        "plt.plot(x,y,marker='*',color=\"yellow\")\n",
        "plt.title(\"Simple line plot\")\n",
        "plt.xlabel(\"X-axis\")\n",
        "plt.ylabel(\"Y-axis\")\n",
        "plt.show()"
      ],
      "metadata": {
        "id": "RFOkdtzVWNwt",
        "outputId": "2f38715e-81e0-4922-cbd1-a5b9e22b9e03",
        "colab": {
          "base_uri": "https://localhost:8080/",
          "height": 472
        }
      },
      "execution_count": 9,
      "outputs": [
        {
          "output_type": "display_data",
          "data": {
            "text/plain": [
              "<Figure size 640x480 with 1 Axes>"
            ],
            "image/png": "[encoded data removed]"
          },
          "metadata": {}
        }
      ]
    },
    {
      "cell_type": "code",
      "source": [
        "# loading titanic dataset.\n",
        "import seaborn as sns\n",
        "a= sns.load_dataset(\"titanic\") # a is variable\n",
        "print (a.head())\n",
        "print (a.tail())"
      ],
      "metadata": {
        "id": "pFWhd657WRnu",
        "outputId": "6cd61957-7551-4a34-cdc6-16ba24c13012",
        "colab": {
          "base_uri": "https://localhost:8080/"
        }
      },
      "execution_count": 10,
      "outputs": [
        {
          "output_type": "stream",
          "name": "stdout",
          "text": [
            "   survived  pclass     sex   age  sibsp  parch     fare embarked  class  \\\n",
            "0         0       3    male  22.0      1      0   7.2500        S  Third   \n",
            "1         1       1  female  38.0      1      0  71.2833        C  First   \n",
            "2         1       3  female  26.0      0      0   7.9250        S  Third   \n",
            "3         1       1  female  35.0      1      0  53.1000        S  First   \n",
            "4         0       3    male  35.0      0      0   8.0500        S  Third   \n",
            "\n",
            "     who  adult_male deck  embark_town alive  alone  \n",
            "0    man        True  NaN  Southampton    no  False  \n",
            "1  woman       False    C    Cherbourg   yes  False  \n",
            "2  woman       False  NaN  Southampton   yes   True  \n",
            "3  woman       False    C  Southampton   yes  False  \n",
            "4    man        True  NaN  Southampton    no   True  \n",
            "     survived  pclass     sex   age  sibsp  parch   fare embarked   class  \\\n",
            "886         0       2    male  27.0      0      0  13.00        S  Second   \n",
            "887         1       1  female  19.0      0      0  30.00        S   First   \n",
            "888         0       3  female   NaN      1      2  23.45        S   Third   \n",
            "889         1       1    male  26.0      0      0  30.00        C   First   \n",
            "890         0       3    male  32.0      0      0   7.75        Q   Third   \n",
            "\n",
            "       who  adult_male deck  embark_town alive  alone  \n",
            "886    man        True  NaN  Southampton    no   True  \n",
            "887  woman       False    B  Southampton   yes   True  \n",
            "888  woman       False  NaN  Southampton    no  False  \n",
            "889    man        True    C    Cherbourg   yes   True  \n",
            "890    man        True  NaN   Queenstown    no   True  \n"
          ]
        }
      ]
    }
  ],
  "metadata": {
    "colab": {
      "name": "Welcome to Colab",
      "toc_visible": true,
      "provenance": [],
      "include_colab_link": true
    },
    "kernelspec": {
      "display_name": "Python 3",
      "name": "python3"
    }
  },
  "nbformat": 4,
  "nbformat_minor": 0
}